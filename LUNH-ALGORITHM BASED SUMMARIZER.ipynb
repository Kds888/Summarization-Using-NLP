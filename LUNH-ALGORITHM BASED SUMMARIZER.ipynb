{
 "cells": [
  {
   "cell_type": "code",
   "execution_count": 1,
   "id": "d436292a",
   "metadata": {},
   "outputs": [],
   "source": [
    "# LUNH algorithm "
   ]
  },
  {
   "cell_type": "code",
   "execution_count": 2,
   "id": "ad4f370f",
   "metadata": {},
   "outputs": [],
   "source": [
    "# The basic Idea behind LUNH algorithm is to group together the important words[important words are calculated using frequency]\n",
    "# in a sentence[ while grouping in a sentence we make use of indexes and distance between important words]\n",
    "#  and then calculate the scores based of the groupings and the group with larger score is selceted to be given the highest \n",
    "# score and that score is assigned to the entire sentence and this way we calculate the sentences with scores and \n",
    "# then use these sentences to create summary.\n",
    "# Simply it states that the words that are important you square them and divide by total number of words in the sentence "
   ]
  },
  {
   "cell_type": "code",
   "execution_count": 28,
   "id": "26e76a3b",
   "metadata": {},
   "outputs": [],
   "source": [
    "# get_data and preprocess_data have the same code as Frequency-Based-Summarizer but we may alter it based on needs of this program"
   ]
  },
  {
   "cell_type": "code",
   "execution_count": 25,
   "id": "257a0611",
   "metadata": {},
   "outputs": [],
   "source": [
    "# LibrRIES\n",
    "from goose3 import Goose\n",
    "from nltk import sent_tokenize\n",
    "import string\n",
    "import nltk\n",
    "import pint\n",
    "ureg=pint.UnitRegistry()\n",
    "stopwords = nltk.corpus.stopwords.words('english')\n",
    "from tensorflow.keras.preprocessing.text import Tokenizer\n",
    "import pandas as pd   "
   ]
  },
  {
   "cell_type": "code",
   "execution_count": 26,
   "id": "5eb96fdd",
   "metadata": {},
   "outputs": [],
   "source": [
    "def get_data():\n",
    "    while True:\n",
    "        print(\"1. For Url Based summarizing using wikipedia\\n\")\n",
    "        print(\"2. For Input Text from your keyboard\\n \")\n",
    "        print(\"3.QUIT\\n\")\n",
    "        try:\n",
    "            choice = input(\"Enter your choice\\n\") \n",
    "            if int(choice) == 1:\n",
    "                url=input(\"Enter the word to be searched on wikipedia \\n\") \n",
    "                url =f'https://en.wikipedia.org/wiki/{url}'\n",
    "                try:\n",
    "                    text=Goose().extract(url).cleaned_text\n",
    "                    return text\n",
    "                except:\n",
    "                    print(\" Wrong URL format\")\n",
    "            elif int(choice) ==2:\n",
    "                text = input(\"Input the copied text\")\n",
    "                return text\n",
    "            elif int(choice) ==3:\n",
    "                print(\"bye\\n\") \n",
    "                break\n",
    "            else:\n",
    "                print(\" wrong choice enetered, Exiting the Program \\n\")\n",
    "                break\n",
    "        except:\n",
    "            print(\" Input Not a number, Quitting the program\")\n",
    "            break"
   ]
  },
  {
   "cell_type": "code",
   "execution_count": 102,
   "id": "d6460557",
   "metadata": {},
   "outputs": [],
   "source": [
    "# Because w eneed sentences for this we are not going to remove the . which seprates the sentences \n",
    "punct=string.punctuation\n",
    "def preprocess_data(text):\n",
    "    text=text.replace('\\n','')\n",
    "    text=text.lower() \n",
    "    text=sent_tokenize(text)\n",
    "    save_text = text # original text\n",
    "    translator = str.maketrans('','', punct+ '0123456789'+'•°'+'─') \n",
    "    clean_text=[]\n",
    "    for i in text:\n",
    "        a=i.translate(translator)\n",
    "        clean_text.append(a) \n",
    "    # so we have punctuation free etxt here, now we need to remove stopwords and units from it.\n",
    "    cleaner_text=[]\n",
    "    for i in clean_text:\n",
    "        l=[]\n",
    "        for j in i.split():\n",
    "            if j not in stopwords+list(ureg):\n",
    "                l.append(j)\n",
    "        cleaner_text.append(' '.join(l)) \n",
    "# cleaner text have no stopwords and most of the symbols of the data have been removed there fore we can use this cleaner text\n",
    "# for getting the scores for our data.\n",
    "    text = ' '.join(cleaner_text)    \n",
    "    tokens=text.split()\n",
    "    print(f\"Total data that we are taking in consideration is {len(tokens)}\\n\") \n",
    "    print(f\" Unique words in our data is {len(set(tokens))}\\n\")\n",
    "    tokenizer= Tokenizer()\n",
    "    tokenizer.fit_on_texts(tokens)\n",
    "    tokenized_text=tokenizer.texts_to_sequences(tokens)# Giving the clean text number represenattion\n",
    "    # but for frequency based summariziation we only need the frequency count from tokenizer.\n",
    "    freq_dataframe = pd.DataFrame(list(tokenizer.word_counts.items()),columns=['Words','Count'])\n",
    "    # we need the frequency, with their word counts \n",
    "    return cleaner_text,freq_dataframe,save_text\n",
    "# here we are sending the frequency of accurance of each word in the data."
   ]
  },
  {
   "cell_type": "code",
   "execution_count": 65,
   "id": "21797aca",
   "metadata": {},
   "outputs": [
    {
     "name": "stdout",
     "output_type": "stream",
     "text": [
      "1. For Url Based summarizing using wikipedia\n",
      "\n",
      "2. For Input Text from your keyboard\n",
      " \n",
      "3.QUIT\n",
      "\n",
      "Enter your choice\n",
      "1\n",
      "Enter the word to be searched on wikipedia \n",
      "cake\n"
     ]
    }
   ],
   "source": [
    "text1=get_data()"
   ]
  },
  {
   "cell_type": "code",
   "execution_count": 103,
   "id": "ed139acb",
   "metadata": {
    "scrolled": true
   },
   "outputs": [
    {
     "name": "stdout",
     "output_type": "stream",
     "text": [
      "Total data that we are taking in consideration is 1257\n",
      "\n",
      " Unique words in our data is 685\n",
      "\n"
     ]
    }
   ],
   "source": [
    "cleaner_text,fdf,original_text=preprocess_data(text1)"
   ]
  },
  {
   "cell_type": "code",
   "execution_count": 104,
   "id": "3a33f7f2",
   "metadata": {},
   "outputs": [
    {
     "data": {
      "text/plain": [
       "['cake flour confection made flour sugar ingredients usually baked',\n",
       " 'oldest forms cakes modifications bread cakes cover wide range preparations simple elaborate share features desserts pastries meringues custards piesthe common ingredients include flour sugar eggs fat butter oil margarine liquid leavening agent baking soda baking powder',\n",
       " 'common additional ingredients include dried candied fresh fruit nuts cocoa extracts vanilla numerous substitutions primary ingredients',\n",
       " 'cakes also filled fruit preserves nuts dessert sauces like custard jelly cooked fruit whipped cream syrups iced buttercream icings decorated marzipan piped borders candied fruitcake often served celebratory dish ceremonial occasions weddings anniversaries birthdays',\n",
       " 'countless cake recipes breadlike rich elaborate many old',\n",
       " 'cake making longer complicated procedure one time considerable labor went cake making particularly whisking egg foams baking equipment directions simplified even amateur cooks may bake cakethe term cake long history',\n",
       " 'word viking origin old norse word kaka',\n",
       " 'ancient greeks called cake πλακοῦς plakous derived word flat πλακόεις plakoeis',\n",
       " 'baked using flour mixed eggs milk nuts honey',\n",
       " 'also cake called satura flat heavy cake',\n",
       " 'roman period name cake became placenta derived greek term',\n",
       " 'placenta baked pastry base inside pastry case',\n",
       " 'greeks invented beer leavener frying fritters olive oil cheesecakes using goats milk',\n",
       " 'ancient rome basic bread dough sometimes enriched butter eggs honey produced sweet cakelike baked good',\n",
       " 'latin poet ovid refers brothers birthday party cake first book exile tristia',\n",
       " 'early cakes england also essentially bread obvious differences cake bread round flat shape cakes cooking method turned cakes cooking bread left upright throughout baking process',\n",
       " 'sponge cakes leavened beaten eggs originated renaissance possibly spain',\n",
       " 'great depression surplus molasses need provide easily made food millions economically depressed people united states',\n",
       " 'one company patented cakebread mix deal economic situation thereby established first line cake box',\n",
       " 'cake known today became massproduced good rather home bakerymade specialtylater postwar boom american companies notably general mills developed idea marketing cake mix principle convenience especially housewives',\n",
       " 'sales dropped heavily marketers discovered baking cakes task housewives could exercise skill creativity become dispiriting',\n",
       " 'period american ideological history women retired wartime labor force confined domestic sphere still exposed blossoming consumerism us',\n",
       " 'inspired psychologist ernest dichter find solution cake mix problem frosting',\n",
       " 'since making cake simple housewives inhome cake makers could expend creative energy cake decorating inspired among things photographs magazines elaborately decorated cakesever since cake box become staple supermarkets complemented frosting cancakes broadly divided several categories based primarily ingredients mixing techniquesalthough clear examples difference cake bread easy find precise classification always elusive',\n",
       " 'butter cakes made creamed butter sugar eggs flour',\n",
       " 'rely combination butter sugar beaten extended time incorporate air batter',\n",
       " 'classic cake made butter sugar eggs flour',\n",
       " 'another type butter cake takes names proportion ingredients used cake butter cups sugar cups flour eggs',\n",
       " 'according beth tartan cake one common among american pioneers settled north carolina',\n",
       " 'baking powder many butter cakes victoria sponge',\n",
       " 'ingredients sometimes mixed without creaming butter using recipes simple quick cakes',\n",
       " 'citation neededsponge cakes foam cakes made whipped eggs sugar flour',\n",
       " 'traditional sponge cakes leavened eggs',\n",
       " 'rely primarily trapped air protein matrix generally beaten eggs provide leavening sometimes baking powder chemical leaven added',\n",
       " 'eggleavened sponge cakes thought oldest cakes made without yeastangel food cake white cake uses whites eggs traditionally baked tube pan',\n",
       " 'french génoise sponge cake includes clarified butter',\n",
       " 'highly decorated sponge cakes lavish toppings sometimes called gateau french word cake',\n",
       " 'chiffon cakes sponge cakes vegetable oil adds moistness',\n",
       " 'chocolate cakes butter cakes sponge cakes cakes flavored melted chocolate cocoa powder',\n",
       " 'german chocolate cake variety chocolate cake',\n",
       " 'fudge cakes chocolate cakes contain fudgecoffee cake generally thought cake serve coffee tea breakfast coffee break',\n",
       " 'types use yeast leavening agent others use baking soda baking powder',\n",
       " 'cakes often crumb topping called streusel light glaze drizzlelayer cakes cakes made layers sponge butter cake filled cream jam filling hold layers togetherone egg cakes made one egg',\n",
       " 'made butter vegetable shortening',\n",
       " 'one egg cake economical recipe using two eggs cake costly',\n",
       " 'although clear examples difference cake bread easy find precise classification always elusive',\n",
       " 'example banana bread may properly considered either quick bread cake',\n",
       " 'yeast cakes oldest similar yeast bread',\n",
       " 'cakes often traditional form include pastries babka stollencakes may classified according occasion intended',\n",
       " 'example wedding cakes birthday cakes cakes first communion christmas cakes halloween cakes passover plava type sponge cake sometimes made matzo meal identified primarily according celebration intended accompany',\n",
       " 'cutting wedding cake constitutes social ceremony cultures',\n",
       " 'ancient roman marriage ritual confarreatio originated sharing cakeparticular types cake may associated particular festivals stollen chocolate log christmas babka simnel cake easter mooncake',\n",
       " 'long tradition decorating iced cake christmas time cakes associated christmas include chocolate log mince piesa lancashire courting cake fruitfilled cake baked fiancée betrothed',\n",
       " 'cake described somewhere firm sponge – greater proportion flour fat eggs victoria sponge cake – shortbread base proof bridetobes baking skills',\n",
       " 'traditionally twolayer cake filled topped strawberries raspberries whipped cream',\n",
       " 'cakes frequently described according physical form',\n",
       " 'cakes may small intended individual consumption',\n",
       " 'larger cakes may made sliced served part meal social function',\n",
       " 'common shapes include conical kransekake cupcakes madeleines sized single person none kransekage example conical cake none dobos torte older form layer cakespecial cake flour high starchtogluten ratio made finetextured soft lowprotein wheat',\n",
       " 'strongly bleached compared allpurpose flour cake flour tends result cakes lighter less dense texture',\n",
       " 'therefore frequently specified preferred cakes meant soft light andor bright white angel food cake',\n",
       " 'however cake flour called substitute made replacing small percentage allpurpose flour cornstarch removing two tablespoons allpurpose flour',\n",
       " 'recipes explicitly specify permit allpurpose flour notably firmer denser cake texture desireda cake fail bake properly called falling',\n",
       " 'cake falls parts may sink flatten baked temperature low hot underbaked placed oven hot beginning baking process',\n",
       " 'use excessive amounts sugar flour fat leavening also cause cake fall',\n",
       " 'cake also fall subjected cool air enters oven oven door opened cooking process',\n",
       " 'finished cake often enhanced covering icing frosting toppings sprinkles also known jimmies certain parts united states hundreds thousands united kingdom',\n",
       " 'frosting usually made powdered icing sugar sometimes fat sort milk cream often flavorings vanilla extract cocoa powder',\n",
       " 'decorators use rolled fondant icing',\n",
       " 'commercial bakeries tend use lard fat often whip lard introduce air bubbles',\n",
       " 'makes icing light spreadable',\n",
       " 'home bakers either use lard butter margarine combination thereof',\n",
       " 'sprinkles small firm pieces sugar oils colored food coloring',\n",
       " 'late new cake decorating products became available public',\n",
       " 'include several specialized sprinkles even methods print pictures transfer image onto cakespecial tools needed complex cake decorating piping bags various piping tips syringes embossing mats',\n",
       " 'use piping syringe piping tip attached syringe using coupler',\n",
       " 'syringe partially filled icing sometimes colored',\n",
       " 'using different piping tips various techniques cake decorator make many different designs',\n",
       " 'basic decorating tips include open star closed star basketweave round drop flower leaf multi petal specialty tips',\n",
       " 'embossing mat used create embossed effects',\n",
       " 'cake turntable cakes spun upon may used cake decorationroyal icing marzipan less sweet version known almond paste fondant icing also known sugar paste buttercream used covering icings create decorations',\n",
       " 'floral sugarcraft wired sugar flowers important part cake decoration',\n",
       " 'cakes special occasions wedding cakes traditionally rich fruit cakes occasionally madeira cakes covered marzipan iced using royal icing sugarpaste',\n",
       " 'finished piped borders made royal icing adorned piped message wired sugar flowers handformed fondant flowers marzipan fruit piped flowers crystallized fruits flowers grapes violets none slice strawberry cake garnishing strawberrythe shelf life cakes packages commercial sale depends several factors',\n",
       " 'cakes intermediate moisture products prone mold growth',\n",
       " 'commercial cakes frequently commonly exposed different mold varieties packaged sale including aspergillus flavus various penicillins aspergillus niger',\n",
       " 'preservatives oxygen absorbents currently used control inhibit mold growththe cdc recommended eat raw cake batter contain coli',\n",
       " 'raw flour contain bacteria needs cooked like foods',\n",
       " 'dictionary definition cake wiktionary']"
      ]
     },
     "execution_count": 104,
     "metadata": {},
     "output_type": "execute_result"
    }
   ],
   "source": [
    "cleaner_text"
   ]
  },
  {
   "cell_type": "code",
   "execution_count": 105,
   "id": "1bc55935",
   "metadata": {},
   "outputs": [
    {
     "data": {
      "text/html": [
       "<div>\n",
       "<style scoped>\n",
       "    .dataframe tbody tr th:only-of-type {\n",
       "        vertical-align: middle;\n",
       "    }\n",
       "\n",
       "    .dataframe tbody tr th {\n",
       "        vertical-align: top;\n",
       "    }\n",
       "\n",
       "    .dataframe thead th {\n",
       "        text-align: right;\n",
       "    }\n",
       "</style>\n",
       "<table border=\"1\" class=\"dataframe\">\n",
       "  <thead>\n",
       "    <tr style=\"text-align: right;\">\n",
       "      <th></th>\n",
       "      <th>Words</th>\n",
       "      <th>Count</th>\n",
       "    </tr>\n",
       "  </thead>\n",
       "  <tbody>\n",
       "    <tr>\n",
       "      <th>0</th>\n",
       "      <td>cake</td>\n",
       "      <td>67</td>\n",
       "    </tr>\n",
       "    <tr>\n",
       "      <th>1</th>\n",
       "      <td>flour</td>\n",
       "      <td>18</td>\n",
       "    </tr>\n",
       "    <tr>\n",
       "      <th>2</th>\n",
       "      <td>confection</td>\n",
       "      <td>1</td>\n",
       "    </tr>\n",
       "    <tr>\n",
       "      <th>3</th>\n",
       "      <td>made</td>\n",
       "      <td>15</td>\n",
       "    </tr>\n",
       "    <tr>\n",
       "      <th>4</th>\n",
       "      <td>sugar</td>\n",
       "      <td>13</td>\n",
       "    </tr>\n",
       "    <tr>\n",
       "      <th>...</th>\n",
       "      <td>...</td>\n",
       "      <td>...</td>\n",
       "    </tr>\n",
       "    <tr>\n",
       "      <th>680</th>\n",
       "      <td>needs</td>\n",
       "      <td>1</td>\n",
       "    </tr>\n",
       "    <tr>\n",
       "      <th>681</th>\n",
       "      <td>foods</td>\n",
       "      <td>1</td>\n",
       "    </tr>\n",
       "    <tr>\n",
       "      <th>682</th>\n",
       "      <td>dictionary</td>\n",
       "      <td>1</td>\n",
       "    </tr>\n",
       "    <tr>\n",
       "      <th>683</th>\n",
       "      <td>definition</td>\n",
       "      <td>1</td>\n",
       "    </tr>\n",
       "    <tr>\n",
       "      <th>684</th>\n",
       "      <td>wiktionary</td>\n",
       "      <td>1</td>\n",
       "    </tr>\n",
       "  </tbody>\n",
       "</table>\n",
       "<p>685 rows × 2 columns</p>\n",
       "</div>"
      ],
      "text/plain": [
       "          Words  Count\n",
       "0          cake     67\n",
       "1         flour     18\n",
       "2    confection      1\n",
       "3          made     15\n",
       "4         sugar     13\n",
       "..          ...    ...\n",
       "680       needs      1\n",
       "681       foods      1\n",
       "682  dictionary      1\n",
       "683  definition      1\n",
       "684  wiktionary      1\n",
       "\n",
       "[685 rows x 2 columns]"
      ]
     },
     "execution_count": 105,
     "metadata": {},
     "output_type": "execute_result"
    }
   ],
   "source": [
    "fdf # Now we need to calculate the indexe's and give the sentences scores accordingly."
   ]
  },
  {
   "cell_type": "code",
   "execution_count": 106,
   "id": "297f005a",
   "metadata": {},
   "outputs": [],
   "source": [
    "fdf.sort_values(by='Count',inplace=True,ascending=False)"
   ]
  },
  {
   "cell_type": "code",
   "execution_count": 107,
   "id": "b8cfe3f6",
   "metadata": {},
   "outputs": [],
   "source": [
    "fdf.reset_index(drop=True,inplace=True)"
   ]
  },
  {
   "cell_type": "code",
   "execution_count": 108,
   "id": "18b2d9ba",
   "metadata": {},
   "outputs": [
    {
     "data": {
      "text/html": [
       "<div>\n",
       "<style scoped>\n",
       "    .dataframe tbody tr th:only-of-type {\n",
       "        vertical-align: middle;\n",
       "    }\n",
       "\n",
       "    .dataframe tbody tr th {\n",
       "        vertical-align: top;\n",
       "    }\n",
       "\n",
       "    .dataframe thead th {\n",
       "        text-align: right;\n",
       "    }\n",
       "</style>\n",
       "<table border=\"1\" class=\"dataframe\">\n",
       "  <thead>\n",
       "    <tr style=\"text-align: right;\">\n",
       "      <th></th>\n",
       "      <th>Words</th>\n",
       "      <th>Count</th>\n",
       "    </tr>\n",
       "  </thead>\n",
       "  <tbody>\n",
       "    <tr>\n",
       "      <th>0</th>\n",
       "      <td>cake</td>\n",
       "      <td>67</td>\n",
       "    </tr>\n",
       "    <tr>\n",
       "      <th>1</th>\n",
       "      <td>cakes</td>\n",
       "      <td>50</td>\n",
       "    </tr>\n",
       "    <tr>\n",
       "      <th>2</th>\n",
       "      <td>flour</td>\n",
       "      <td>18</td>\n",
       "    </tr>\n",
       "    <tr>\n",
       "      <th>3</th>\n",
       "      <td>made</td>\n",
       "      <td>15</td>\n",
       "    </tr>\n",
       "    <tr>\n",
       "      <th>4</th>\n",
       "      <td>butter</td>\n",
       "      <td>15</td>\n",
       "    </tr>\n",
       "    <tr>\n",
       "      <th>...</th>\n",
       "      <td>...</td>\n",
       "      <td>...</td>\n",
       "    </tr>\n",
       "    <tr>\n",
       "      <th>680</th>\n",
       "      <td>whites</td>\n",
       "      <td>1</td>\n",
       "    </tr>\n",
       "    <tr>\n",
       "      <th>681</th>\n",
       "      <td>uses</td>\n",
       "      <td>1</td>\n",
       "    </tr>\n",
       "    <tr>\n",
       "      <th>682</th>\n",
       "      <td>cooks</td>\n",
       "      <td>1</td>\n",
       "    </tr>\n",
       "    <tr>\n",
       "      <th>683</th>\n",
       "      <td>yeastangel</td>\n",
       "      <td>1</td>\n",
       "    </tr>\n",
       "    <tr>\n",
       "      <th>684</th>\n",
       "      <td>wiktionary</td>\n",
       "      <td>1</td>\n",
       "    </tr>\n",
       "  </tbody>\n",
       "</table>\n",
       "<p>685 rows × 2 columns</p>\n",
       "</div>"
      ],
      "text/plain": [
       "          Words  Count\n",
       "0          cake     67\n",
       "1         cakes     50\n",
       "2         flour     18\n",
       "3          made     15\n",
       "4        butter     15\n",
       "..          ...    ...\n",
       "680      whites      1\n",
       "681        uses      1\n",
       "682       cooks      1\n",
       "683  yeastangel      1\n",
       "684  wiktionary      1\n",
       "\n",
       "[685 rows x 2 columns]"
      ]
     },
     "execution_count": 108,
     "metadata": {},
     "output_type": "execute_result"
    }
   ],
   "source": [
    "fdf # based on the counts we can control the fact that how much words be considered as important, like words who have counts \n",
    "# more than 15 like this we can control the summarizinng conditions\n",
    "# based on this I can get my creative dataframe by taking only those values that I seem the count as important."
   ]
  },
  {
   "cell_type": "code",
   "execution_count": 109,
   "id": "b281e29d",
   "metadata": {},
   "outputs": [],
   "source": [
    "creative_word_df=fdf[fdf['Count'] >=5] # this here acts as an hyperparameter that we need to use in order to set the words."
   ]
  },
  {
   "cell_type": "code",
   "execution_count": 110,
   "id": "ecd29c81",
   "metadata": {
    "scrolled": true
   },
   "outputs": [
    {
     "data": {
      "text/html": [
       "<div>\n",
       "<style scoped>\n",
       "    .dataframe tbody tr th:only-of-type {\n",
       "        vertical-align: middle;\n",
       "    }\n",
       "\n",
       "    .dataframe tbody tr th {\n",
       "        vertical-align: top;\n",
       "    }\n",
       "\n",
       "    .dataframe thead th {\n",
       "        text-align: right;\n",
       "    }\n",
       "</style>\n",
       "<table border=\"1\" class=\"dataframe\">\n",
       "  <thead>\n",
       "    <tr style=\"text-align: right;\">\n",
       "      <th></th>\n",
       "      <th>Words</th>\n",
       "      <th>Count</th>\n",
       "    </tr>\n",
       "  </thead>\n",
       "  <tbody>\n",
       "    <tr>\n",
       "      <th>0</th>\n",
       "      <td>cake</td>\n",
       "      <td>67</td>\n",
       "    </tr>\n",
       "    <tr>\n",
       "      <th>1</th>\n",
       "      <td>cakes</td>\n",
       "      <td>50</td>\n",
       "    </tr>\n",
       "    <tr>\n",
       "      <th>2</th>\n",
       "      <td>flour</td>\n",
       "      <td>18</td>\n",
       "    </tr>\n",
       "    <tr>\n",
       "      <th>3</th>\n",
       "      <td>made</td>\n",
       "      <td>15</td>\n",
       "    </tr>\n",
       "    <tr>\n",
       "      <th>4</th>\n",
       "      <td>butter</td>\n",
       "      <td>15</td>\n",
       "    </tr>\n",
       "    <tr>\n",
       "      <th>5</th>\n",
       "      <td>sugar</td>\n",
       "      <td>13</td>\n",
       "    </tr>\n",
       "    <tr>\n",
       "      <th>6</th>\n",
       "      <td>eggs</td>\n",
       "      <td>13</td>\n",
       "    </tr>\n",
       "    <tr>\n",
       "      <th>7</th>\n",
       "      <td>sponge</td>\n",
       "      <td>12</td>\n",
       "    </tr>\n",
       "    <tr>\n",
       "      <th>8</th>\n",
       "      <td>baking</td>\n",
       "      <td>11</td>\n",
       "    </tr>\n",
       "    <tr>\n",
       "      <th>9</th>\n",
       "      <td>bread</td>\n",
       "      <td>10</td>\n",
       "    </tr>\n",
       "    <tr>\n",
       "      <th>10</th>\n",
       "      <td>icing</td>\n",
       "      <td>9</td>\n",
       "    </tr>\n",
       "    <tr>\n",
       "      <th>11</th>\n",
       "      <td>may</td>\n",
       "      <td>8</td>\n",
       "    </tr>\n",
       "    <tr>\n",
       "      <th>12</th>\n",
       "      <td>include</td>\n",
       "      <td>7</td>\n",
       "    </tr>\n",
       "    <tr>\n",
       "      <th>13</th>\n",
       "      <td>use</td>\n",
       "      <td>7</td>\n",
       "    </tr>\n",
       "    <tr>\n",
       "      <th>14</th>\n",
       "      <td>also</td>\n",
       "      <td>7</td>\n",
       "    </tr>\n",
       "    <tr>\n",
       "      <th>15</th>\n",
       "      <td>chocolate</td>\n",
       "      <td>7</td>\n",
       "    </tr>\n",
       "    <tr>\n",
       "      <th>16</th>\n",
       "      <td>sometimes</td>\n",
       "      <td>7</td>\n",
       "    </tr>\n",
       "    <tr>\n",
       "      <th>17</th>\n",
       "      <td>baked</td>\n",
       "      <td>7</td>\n",
       "    </tr>\n",
       "    <tr>\n",
       "      <th>18</th>\n",
       "      <td>using</td>\n",
       "      <td>7</td>\n",
       "    </tr>\n",
       "    <tr>\n",
       "      <th>19</th>\n",
       "      <td>ingredients</td>\n",
       "      <td>7</td>\n",
       "    </tr>\n",
       "    <tr>\n",
       "      <th>20</th>\n",
       "      <td>called</td>\n",
       "      <td>6</td>\n",
       "    </tr>\n",
       "    <tr>\n",
       "      <th>21</th>\n",
       "      <td>powder</td>\n",
       "      <td>6</td>\n",
       "    </tr>\n",
       "    <tr>\n",
       "      <th>22</th>\n",
       "      <td>often</td>\n",
       "      <td>6</td>\n",
       "    </tr>\n",
       "    <tr>\n",
       "      <th>23</th>\n",
       "      <td>piping</td>\n",
       "      <td>5</td>\n",
       "    </tr>\n",
       "    <tr>\n",
       "      <th>24</th>\n",
       "      <td>decorating</td>\n",
       "      <td>5</td>\n",
       "    </tr>\n",
       "    <tr>\n",
       "      <th>25</th>\n",
       "      <td>fat</td>\n",
       "      <td>5</td>\n",
       "    </tr>\n",
       "    <tr>\n",
       "      <th>26</th>\n",
       "      <td>flowers</td>\n",
       "      <td>5</td>\n",
       "    </tr>\n",
       "    <tr>\n",
       "      <th>27</th>\n",
       "      <td>one</td>\n",
       "      <td>5</td>\n",
       "    </tr>\n",
       "    <tr>\n",
       "      <th>28</th>\n",
       "      <td>used</td>\n",
       "      <td>5</td>\n",
       "    </tr>\n",
       "    <tr>\n",
       "      <th>29</th>\n",
       "      <td>fruit</td>\n",
       "      <td>5</td>\n",
       "    </tr>\n",
       "  </tbody>\n",
       "</table>\n",
       "</div>"
      ],
      "text/plain": [
       "          Words  Count\n",
       "0          cake     67\n",
       "1         cakes     50\n",
       "2         flour     18\n",
       "3          made     15\n",
       "4        butter     15\n",
       "5         sugar     13\n",
       "6          eggs     13\n",
       "7        sponge     12\n",
       "8        baking     11\n",
       "9         bread     10\n",
       "10        icing      9\n",
       "11          may      8\n",
       "12      include      7\n",
       "13          use      7\n",
       "14         also      7\n",
       "15    chocolate      7\n",
       "16    sometimes      7\n",
       "17        baked      7\n",
       "18        using      7\n",
       "19  ingredients      7\n",
       "20       called      6\n",
       "21       powder      6\n",
       "22        often      6\n",
       "23       piping      5\n",
       "24   decorating      5\n",
       "25          fat      5\n",
       "26      flowers      5\n",
       "27          one      5\n",
       "28         used      5\n",
       "29        fruit      5"
      ]
     },
     "execution_count": 110,
     "metadata": {},
     "output_type": "execute_result"
    }
   ],
   "source": [
    "creative_word_df # Now we need to map these values as to find the groups in the sentences for that we will need the origonal sen\n",
    "# tences to work on."
   ]
  },
  {
   "cell_type": "code",
   "execution_count": 111,
   "id": "89fcff9f",
   "metadata": {},
   "outputs": [],
   "source": [
    "l=creative_word_df['Words']"
   ]
  },
  {
   "cell_type": "code",
   "execution_count": 112,
   "id": "ca0f2fde",
   "metadata": {},
   "outputs": [
    {
     "data": {
      "text/plain": [
       "array(['cake', 'cakes', 'flour', 'made', 'butter', 'sugar', 'eggs',\n",
       "       'sponge', 'baking', 'bread', 'icing', 'may', 'include', 'use',\n",
       "       'also', 'chocolate', 'sometimes', 'baked', 'using', 'ingredients',\n",
       "       'called', 'powder', 'often', 'piping', 'decorating', 'fat',\n",
       "       'flowers', 'one', 'used', 'fruit'], dtype=object)"
      ]
     },
     "execution_count": 112,
     "metadata": {},
     "output_type": "execute_result"
    }
   ],
   "source": [
    "l.values"
   ]
  },
  {
   "cell_type": "code",
   "execution_count": 121,
   "id": "bd5053d5",
   "metadata": {},
   "outputs": [],
   "source": [
    "def assign_scores(sentence): \n",
    "    a=sentence.split()\n",
    "    imp_words=[]\n",
    "    scores=[]\n",
    "    for i in range(len(a)):\n",
    "        if a[i] in l.values:\n",
    "            imp_words.append(i)\n",
    "    scores.append(len(imp_words)**2/len(a))\n",
    "    return scores[0]\n",
    "        "
   ]
  },
  {
   "cell_type": "code",
   "execution_count": 122,
   "id": "918fb15d",
   "metadata": {},
   "outputs": [
    {
     "data": {
      "text/plain": [
       "5.444444444444445"
      ]
     },
     "execution_count": 122,
     "metadata": {},
     "output_type": "execute_result"
    }
   ],
   "source": [
    "assign_scores(cleaner_text[0])# Using this we are getting scores based of important words in a sentence."
   ]
  },
  {
   "cell_type": "code",
   "execution_count": 128,
   "id": "96543a84",
   "metadata": {},
   "outputs": [],
   "source": [
    "scores_of_all_sentences=[]\n",
    "for i in cleaner_text:\n",
    "    scores_of_all_sentences.append(assign_scores(i))"
   ]
  },
  {
   "cell_type": "code",
   "execution_count": 129,
   "id": "0c42be00",
   "metadata": {},
   "outputs": [],
   "source": [
    "final_scores=[]\n",
    "summm=sum(scores_of_all_sentences)\n",
    "for i in scores_of_all_sentences:\n",
    "    final_scores.append(i/summm)"
   ]
  },
  {
   "cell_type": "code",
   "execution_count": 131,
   "id": "bb9477eb",
   "metadata": {},
   "outputs": [
    {
     "data": {
      "text/plain": [
       "1.0000000000000007"
      ]
     },
     "execution_count": 131,
     "metadata": {},
     "output_type": "execute_result"
    }
   ],
   "source": [
    "sum(final_scores) # approximately 1 only."
   ]
  },
  {
   "cell_type": "code",
   "execution_count": 132,
   "id": "b8c4d37f",
   "metadata": {},
   "outputs": [
    {
     "data": {
      "text/plain": [
       "True"
      ]
     },
     "execution_count": 132,
     "metadata": {},
     "output_type": "execute_result"
    }
   ],
   "source": [
    "len(original_text)==len(cleaner_text) # This just tells us whetehr we can append the sxores directly to the original sentences."
   ]
  },
  {
   "cell_type": "code",
   "execution_count": 136,
   "id": "1618a5e0",
   "metadata": {},
   "outputs": [],
   "source": [
    "final_df=pd.DataFrame(data=original_text,columns=['Text'])"
   ]
  },
  {
   "cell_type": "code",
   "execution_count": 137,
   "id": "9b8156a0",
   "metadata": {},
   "outputs": [],
   "source": [
    "final_df['Scores']=final_scores"
   ]
  },
  {
   "cell_type": "code",
   "execution_count": 138,
   "id": "46a3d99b",
   "metadata": {},
   "outputs": [],
   "source": [
    "final_df.sort_values(by='Scores',ascending=False,inplace=True)"
   ]
  },
  {
   "cell_type": "code",
   "execution_count": 139,
   "id": "9f795b5e",
   "metadata": {},
   "outputs": [
    {
     "data": {
      "text/html": [
       "<div>\n",
       "<style scoped>\n",
       "    .dataframe tbody tr th:only-of-type {\n",
       "        vertical-align: middle;\n",
       "    }\n",
       "\n",
       "    .dataframe tbody tr th {\n",
       "        vertical-align: top;\n",
       "    }\n",
       "\n",
       "    .dataframe thead th {\n",
       "        text-align: right;\n",
       "    }\n",
       "</style>\n",
       "<table border=\"1\" class=\"dataframe\">\n",
       "  <thead>\n",
       "    <tr style=\"text-align: right;\">\n",
       "      <th></th>\n",
       "      <th>Text</th>\n",
       "      <th>Scores</th>\n",
       "    </tr>\n",
       "  </thead>\n",
       "  <tbody>\n",
       "    <tr>\n",
       "      <th>38</th>\n",
       "      <td>[15]chocolate cakes are butter cakes, sponge c...</td>\n",
       "      <td>0.051229</td>\n",
       "    </tr>\n",
       "    <tr>\n",
       "      <th>24</th>\n",
       "      <td>[5]butter cakes are made from creamed butter, ...</td>\n",
       "      <td>0.046486</td>\n",
       "    </tr>\n",
       "    <tr>\n",
       "      <th>0</th>\n",
       "      <td>cake is a flour confection made from flour, su...</td>\n",
       "      <td>0.041321</td>\n",
       "    </tr>\n",
       "    <tr>\n",
       "      <th>42</th>\n",
       "      <td>these cakes often have a crumb topping called ...</td>\n",
       "      <td>0.039032</td>\n",
       "    </tr>\n",
       "    <tr>\n",
       "      <th>26</th>\n",
       "      <td>[11] a classic pound cake is made with a pound...</td>\n",
       "      <td>0.039032</td>\n",
       "    </tr>\n",
       "    <tr>\n",
       "      <th>...</th>\n",
       "      <td>...</td>\n",
       "      <td>...</td>\n",
       "    </tr>\n",
       "    <tr>\n",
       "      <th>14</th>\n",
       "      <td>[5] latin poet ovid refers to his and his brot...</td>\n",
       "      <td>0.000632</td>\n",
       "    </tr>\n",
       "    <tr>\n",
       "      <th>17</th>\n",
       "      <td>[7]during the great depression, there was a su...</td>\n",
       "      <td>0.000506</td>\n",
       "    </tr>\n",
       "    <tr>\n",
       "      <th>85</th>\n",
       "      <td>commercial cakes are frequently and commonly e...</td>\n",
       "      <td>0.000446</td>\n",
       "    </tr>\n",
       "    <tr>\n",
       "      <th>6</th>\n",
       "      <td>the word itself is of viking origin, from the ...</td>\n",
       "      <td>0.000000</td>\n",
       "    </tr>\n",
       "    <tr>\n",
       "      <th>21</th>\n",
       "      <td>this was a period in american ideological hist...</td>\n",
       "      <td>0.000000</td>\n",
       "    </tr>\n",
       "  </tbody>\n",
       "</table>\n",
       "<p>89 rows × 2 columns</p>\n",
       "</div>"
      ],
      "text/plain": [
       "                                                 Text    Scores\n",
       "38  [15]chocolate cakes are butter cakes, sponge c...  0.051229\n",
       "24  [5]butter cakes are made from creamed butter, ...  0.046486\n",
       "0   cake is a flour confection made from flour, su...  0.041321\n",
       "42  these cakes often have a crumb topping called ...  0.039032\n",
       "26  [11] a classic pound cake is made with a pound...  0.039032\n",
       "..                                                ...       ...\n",
       "14  [5] latin poet ovid refers to his and his brot...  0.000632\n",
       "17  [7]during the great depression, there was a su...  0.000506\n",
       "85  commercial cakes are frequently and commonly e...  0.000446\n",
       "6   the word itself is of viking origin, from the ...  0.000000\n",
       "21  this was a period in american ideological hist...  0.000000\n",
       "\n",
       "[89 rows x 2 columns]"
      ]
     },
     "execution_count": 139,
     "metadata": {},
     "output_type": "execute_result"
    }
   ],
   "source": [
    "final_df"
   ]
  },
  {
   "cell_type": "code",
   "execution_count": 160,
   "id": "8474a36b",
   "metadata": {},
   "outputs": [],
   "source": [
    "def get_summary(sum_per=0.5):\n",
    "    m=0\n",
    "    for i in range(len(final_df)):\n",
    "        if m <=sum_per:\n",
    "            m+=final_df['Scores'][i] \n",
    "            print(final_df['Text'][i])\n",
    "            "
   ]
  },
  {
   "cell_type": "code",
   "execution_count": 164,
   "id": "bb2bd12a",
   "metadata": {
    "scrolled": true
   },
   "outputs": [
    {
     "name": "stdout",
     "output_type": "stream",
     "text": [
      "cake is a flour confection made from flour, sugar, and other ingredients, and is usually baked.\n",
      "in their oldest forms, cakes were modifications of bread, but cakes now cover a wide range of preparations that can be simple or elaborate, and which share features with desserts such as pastries, meringues, custards, and pies.the most common ingredients include flour, sugar, eggs, fat (such as butter, oil or margarine), a liquid, and a leavening agent, such as baking soda or baking powder.\n",
      "common additional ingredients include dried, candied, or fresh fruit, nuts, cocoa, and extracts such as vanilla, with numerous substitutions for the primary ingredients.\n",
      "cakes can also be filled with fruit preserves, nuts or dessert sauces (like custard, jelly, cooked fruit, whipped cream or syrups),[1] iced with buttercream or other icings, and decorated with marzipan, piped borders, or candied fruit.cake is often served as a celebratory dish on ceremonial occasions, such as weddings, anniversaries, and birthdays.\n",
      "there are countless cake recipes; some are bread-like, some are rich and elaborate, and many are centuries old.\n",
      "cake making is no longer a complicated procedure; while at one time considerable labor went into cake making (particularly the whisking of egg foams), baking equipment and directions have been simplified so that even the most amateur of cooks may bake a cake.the term \"cake\" has a long history.\n"
     ]
    }
   ],
   "source": [
    "get_summary(sum_per=0.1) "
   ]
  },
  {
   "cell_type": "code",
   "execution_count": 24,
   "id": "1e6e17a4",
   "metadata": {},
   "outputs": [],
   "source": [
    "import matplotlib.pyplot as plt \n",
    "import wordcloud"
   ]
  },
  {
   "cell_type": "code",
   "execution_count": 8,
   "id": "66474bfd",
   "metadata": {
    "scrolled": true
   },
   "outputs": [
    {
     "data": {
      "image/png": "[encoded data removed]",
      "text/plain": [
       "<Figure size 2000x2000 with 1 Axes>"
      ]
     },
     "metadata": {},
     "output_type": "display_data"
    }
   ],
   "source": [
    "plt.figure(figsize=(20,20))\n",
    "plt.axis('off')\n",
    "plt.imshow(wordcloud.WordCloud().generate(text)); \n",
    "# word cloud is helpful to find stopwords that are not very helpful."
   ]
  }
 ],
 "metadata": {
  "kernelspec": {
   "display_name": "Python 3 (ipykernel)",
   "language": "python",
   "name": "python3"
  },
  "language_info": {
   "codemirror_mode": {
    "name": "ipython",
    "version": 3
   },
   "file_extension": ".py",
   "mimetype": "text/x-python",
   "name": "python",
   "nbconvert_exporter": "python",
   "pygments_lexer": "ipython3",
   "version": "3.9.13"
  }
 },
 "nbformat": 4,
 "nbformat_minor": 5
}
